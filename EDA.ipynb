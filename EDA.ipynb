{
 "cells": [
  {
   "cell_type": "code",
   "execution_count": 1,
   "metadata": {},
   "outputs": [],
   "source": [
    "import pandas as pd\n",
    "import numpy as np\n",
    "import matplotlib.pyplot as plt"
   ]
  },
  {
   "cell_type": "markdown",
   "metadata": {},
   "source": [
    "---\n",
    "\n",
    "# Load & explore data (labels)"
   ]
  },
  {
   "cell_type": "code",
   "execution_count": 2,
   "metadata": {},
   "outputs": [],
   "source": [
    "y_test = pd.read_csv('data/y_test.txt', header=None)"
   ]
  },
  {
   "cell_type": "markdown",
   "metadata": {},
   "source": [
    "\n",
    "### Basic exploration"
   ]
  },
  {
   "cell_type": "code",
   "execution_count": 3,
   "metadata": {},
   "outputs": [
    {
     "name": "stdout",
     "output_type": "stream",
     "text": [
      "<class 'pandas.core.frame.DataFrame'>\n",
      "RangeIndex: 117500 entries, 0 to 117499\n",
      "Data columns (total 1 columns):\n",
      " #   Column  Non-Null Count   Dtype \n",
      "---  ------  --------------   ----- \n",
      " 0   0       117000 non-null  object\n",
      "dtypes: object(1)\n",
      "memory usage: 918.1+ KB\n"
     ]
    }
   ],
   "source": [
    "y_test.info()"
   ]
  },
  {
   "cell_type": "code",
   "execution_count": 4,
   "metadata": {},
   "outputs": [
    {
     "data": {
      "text/html": [
       "<div>\n",
       "<style scoped>\n",
       "    .dataframe tbody tr th:only-of-type {\n",
       "        vertical-align: middle;\n",
       "    }\n",
       "\n",
       "    .dataframe tbody tr th {\n",
       "        vertical-align: top;\n",
       "    }\n",
       "\n",
       "    .dataframe thead th {\n",
       "        text-align: right;\n",
       "    }\n",
       "</style>\n",
       "<table border=\"1\" class=\"dataframe\">\n",
       "  <thead>\n",
       "    <tr style=\"text-align: right;\">\n",
       "      <th></th>\n",
       "      <th>0</th>\n",
       "    </tr>\n",
       "  </thead>\n",
       "  <tbody>\n",
       "    <tr>\n",
       "      <th>count</th>\n",
       "      <td>117000</td>\n",
       "    </tr>\n",
       "    <tr>\n",
       "      <th>unique</th>\n",
       "      <td>234</td>\n",
       "    </tr>\n",
       "    <tr>\n",
       "      <th>top</th>\n",
       "      <td>snd</td>\n",
       "    </tr>\n",
       "    <tr>\n",
       "      <th>freq</th>\n",
       "      <td>500</td>\n",
       "    </tr>\n",
       "  </tbody>\n",
       "</table>\n",
       "</div>"
      ],
      "text/plain": [
       "             0\n",
       "count   117000\n",
       "unique     234\n",
       "top        snd\n",
       "freq       500"
      ]
     },
     "execution_count": 4,
     "metadata": {},
     "output_type": "execute_result"
    }
   ],
   "source": [
    "y_test.describe()"
   ]
  },
  {
   "cell_type": "markdown",
   "metadata": {},
   "source": [
    "### Let's check the number of languages included in this dataset"
   ]
  },
  {
   "cell_type": "code",
   "execution_count": 5,
   "metadata": {},
   "outputs": [
    {
     "data": {
      "text/plain": [
       "0    234\n",
       "dtype: int64"
      ]
     },
     "execution_count": 5,
     "metadata": {},
     "output_type": "execute_result"
    }
   ],
   "source": [
    "y_test.nunique()"
   ]
  },
  {
   "cell_type": "markdown",
   "metadata": {},
   "source": [
    "> The dataset is expedted to include 235 languages, but there is only 234"
   ]
  },
  {
   "cell_type": "markdown",
   "metadata": {},
   "source": [
    "#### Let's see if we can spot the missing language"
   ]
  },
  {
   "cell_type": "code",
   "execution_count": 9,
   "metadata": {},
   "outputs": [],
   "source": [
    "labels = pd.read_csv(\"data/labels.csv\", sep=';')"
   ]
  },
  {
   "cell_type": "code",
   "execution_count": 18,
   "metadata": {},
   "outputs": [
    {
     "name": "stdout",
     "output_type": "stream",
     "text": [
      "142 nan\n"
     ]
    }
   ],
   "source": [
    "for i, l in enumerate(labels['Label']):\n",
    "    if l not in y_test[0].unique():\n",
    "        print(i, l)"
   ]
  },
  {
   "cell_type": "code",
   "execution_count": 22,
   "metadata": {},
   "outputs": [
    {
     "data": {
      "text/plain": [
       "Label                          NaN\n",
       "English            Min Nan Chinese\n",
       "Wiki Code               zh-min-nan\n",
       "ISO 369-3                      NaN\n",
       "German                     Min Nan\n",
       "Language family       Sino-Tibetan\n",
       "Writing system                 NaN\n",
       "Remarks                        NaN\n",
       "Synonyms                       NaN\n",
       "Name: 142, dtype: object"
      ]
     },
     "execution_count": 22,
     "metadata": {},
     "output_type": "execute_result"
    }
   ],
   "source": [
    "labels.iloc[142]"
   ]
  },
  {
   "cell_type": "markdown",
   "metadata": {},
   "source": [
    "### Let's check the repartition of the text samples among the languages"
   ]
  },
  {
   "cell_type": "code",
   "execution_count": 35,
   "metadata": {},
   "outputs": [
    {
     "data": {
      "text/plain": [
       "ace    500\n",
       "pam    500\n",
       "new    500\n",
       "nld    500\n",
       "nno    500\n",
       "      ... \n",
       "ido    500\n",
       "ile    500\n",
       "ilo    500\n",
       "ina    500\n",
       "zho    500\n",
       "Length: 234, dtype: int64"
      ]
     },
     "execution_count": 35,
     "metadata": {},
     "output_type": "execute_result"
    }
   ],
   "source": [
    "y_test.value_counts()"
   ]
  },
  {
   "cell_type": "code",
   "execution_count": 36,
   "metadata": {},
   "outputs": [
    {
     "data": {
      "text/plain": [
       "count    234.0\n",
       "mean     500.0\n",
       "std        0.0\n",
       "min      500.0\n",
       "25%      500.0\n",
       "50%      500.0\n",
       "75%      500.0\n",
       "max      500.0\n",
       "dtype: float64"
      ]
     },
     "execution_count": 36,
     "metadata": {},
     "output_type": "execute_result"
    }
   ],
   "source": [
    "y_test.value_counts().describe()"
   ]
  },
  {
   "cell_type": "code",
   "execution_count": 37,
   "metadata": {},
   "outputs": [
    {
     "data": {
      "text/plain": [
       "117000"
      ]
     },
     "execution_count": 37,
     "metadata": {},
     "output_type": "execute_result"
    }
   ],
   "source": [
    "500*234"
   ]
  },
  {
   "cell_type": "markdown",
   "metadata": {},
   "source": [
    "> So there is definitly 500 texts per language, and 234 languages in this dataset."
   ]
  },
  {
   "cell_type": "markdown",
   "metadata": {},
   "source": [
    "#### We can also check with a graph..."
   ]
  },
  {
   "cell_type": "code",
   "execution_count": 39,
   "metadata": {},
   "outputs": [
    {
     "data": {
      "image/png": "[encoded data removed]",
      "text/plain": [
       "<Figure size 720x144 with 1 Axes>"
      ]
     },
     "metadata": {
      "needs_background": "light"
     },
     "output_type": "display_data"
    }
   ],
   "source": [
    "fig = plt.figure(figsize=(10, 2))\n",
    "\n",
    "y_test_vc = y_test.value_counts()\n",
    "\n",
    "plt.plot([x for x in range(y_test_vc.shape[0])], y_test_vc)\n",
    "plt.show()"
   ]
  },
  {
   "cell_type": "markdown",
   "metadata": {},
   "source": [
    "---\n",
    "\n",
    "# Select `text id`s  (row index) for the top 5 languages\n",
    "\n",
    "According to wikipedia (https://en.wikipedia.org/wiki/List_of_languages_by_number_of_native_speakers), the top 5 `languages by number of native speakers` are:\n",
    "- 1 Mandarin Chinese (12.3%)\n",
    "- 2 Spanish (6.0%)\n",
    "- 3 English (5.1%)\n",
    "- 3 Arabic (5.1%)\n",
    "- 5 Hindi (3.5%)\n",
    "\n",
    "According to babbel.com (https://www.babbel.com/en/magazine/the-10-most-spoken-languages-in-the-world), the top 5 `spoken languages` are: \n",
    "- 1 Mandarin Chinesse (1100M)\n",
    "- 2 Spanish (471M)\n",
    "- 3 English (370M)\n",
    "- 4 Hindi (342M)\n",
    "- 5 Arabic (315M)"
   ]
  },
  {
   "cell_type": "markdown",
   "metadata": {},
   "source": [
    "### Identify the `Labels` for the 5 selected languages"
   ]
  },
  {
   "cell_type": "code",
   "execution_count": 57,
   "metadata": {},
   "outputs": [
    {
     "data": {
      "text/html": [
       "<div>\n",
       "<style scoped>\n",
       "    .dataframe tbody tr th:only-of-type {\n",
       "        vertical-align: middle;\n",
       "    }\n",
       "\n",
       "    .dataframe tbody tr th {\n",
       "        vertical-align: top;\n",
       "    }\n",
       "\n",
       "    .dataframe thead th {\n",
       "        text-align: right;\n",
       "    }\n",
       "</style>\n",
       "<table border=\"1\" class=\"dataframe\">\n",
       "  <thead>\n",
       "    <tr style=\"text-align: right;\">\n",
       "      <th></th>\n",
       "      <th>Label</th>\n",
       "      <th>English</th>\n",
       "    </tr>\n",
       "  </thead>\n",
       "  <tbody>\n",
       "    <tr>\n",
       "      <th>5</th>\n",
       "      <td>ara</td>\n",
       "      <td>Arabic</td>\n",
       "    </tr>\n",
       "    <tr>\n",
       "      <th>50</th>\n",
       "      <td>eng</td>\n",
       "      <td>English</td>\n",
       "    </tr>\n",
       "    <tr>\n",
       "      <th>76</th>\n",
       "      <td>hin</td>\n",
       "      <td>Hindi</td>\n",
       "    </tr>\n",
       "    <tr>\n",
       "      <th>190</th>\n",
       "      <td>spa</td>\n",
       "      <td>Spanish</td>\n",
       "    </tr>\n",
       "    <tr>\n",
       "      <th>234</th>\n",
       "      <td>zho</td>\n",
       "      <td>Standard Chinese</td>\n",
       "    </tr>\n",
       "  </tbody>\n",
       "</table>\n",
       "</div>"
      ],
      "text/plain": [
       "    Label           English\n",
       "5     ara            Arabic\n",
       "50    eng           English\n",
       "76    hin             Hindi\n",
       "190   spa           Spanish\n",
       "234   zho  Standard Chinese"
      ]
     },
     "execution_count": 57,
     "metadata": {},
     "output_type": "execute_result"
    }
   ],
   "source": [
    "top_languages = [\"Standard Chinese\", \"Spanish\", \"English\", \"Arabic\", \"Hindi\"]\n",
    "labels[labels.English.isin(top_languages)][['Label', 'English']]"
   ]
  },
  {
   "cell_type": "markdown",
   "metadata": {},
   "source": [
    "### Search for the rows matching the selected language's codes"
   ]
  },
  {
   "cell_type": "code",
   "execution_count": 78,
   "metadata": {},
   "outputs": [
    {
     "data": {
      "text/plain": [
       "['ara', 'eng', 'hin', 'spa', 'zho']"
      ]
     },
     "execution_count": 78,
     "metadata": {},
     "output_type": "execute_result"
    }
   ],
   "source": [
    "top_labels = list(labels[labels.English.isin(top_languages)][['Label', 'English']]['Label'])\n",
    "top_labels"
   ]
  },
  {
   "cell_type": "code",
   "execution_count": 70,
   "metadata": {},
   "outputs": [],
   "source": [
    "## FOR DEBUG ONLY\n",
    "top_labels = ['eng', 'fra']"
   ]
  },
  {
   "cell_type": "code",
   "execution_count": 79,
   "metadata": {},
   "outputs": [
    {
     "data": {
      "text/plain": [
       "(2500, 1)"
      ]
     },
     "execution_count": 79,
     "metadata": {},
     "output_type": "execute_result"
    }
   ],
   "source": [
    "y_select = y_test.loc[ y_test.isin(top_labels)[0] ]\n",
    "y_select.shape"
   ]
  },
  {
   "cell_type": "raw",
   "metadata": {},
   "source": [
    "# Print the selected rows along with their index\n",
    "\n",
    "for idx, value in y_select.iterrows():\n",
    "    print(f\"{idx} | {value[0]}\")"
   ]
  },
  {
   "cell_type": "markdown",
   "metadata": {},
   "source": [
    "### Select some of them\n",
    "(the same number for each selected language)"
   ]
  },
  {
   "cell_type": "code",
   "execution_count": 80,
   "metadata": {},
   "outputs": [],
   "source": [
    "sample_size = 10"
   ]
  },
  {
   "cell_type": "code",
   "execution_count": 81,
   "metadata": {},
   "outputs": [
    {
     "data": {
      "text/plain": [
       "{'ara': Int64Index([15, 134, 232, 1039, 1184, 1221, 1415, 2211, 2409, 2498], dtype='int64'),\n",
       " 'eng': Int64Index([68, 384, 751, 1508, 1527, 1754, 2533, 2667, 2722, 3063], dtype='int64'),\n",
       " 'hin': Int64Index([113, 352, 590, 663, 957, 967, 1588, 2104, 2170, 3356], dtype='int64'),\n",
       " 'spa': Int64Index([50, 391, 402, 500, 809, 833, 1169, 1201, 1797, 2179], dtype='int64'),\n",
       " 'zho': Int64Index([42, 193, 280, 314, 650, 872, 1139, 1323, 1603, 1863], dtype='int64')}"
      ]
     },
     "execution_count": 81,
     "metadata": {},
     "output_type": "execute_result"
    }
   ],
   "source": [
    "y_selects = {}\n",
    "for lang in top_labels:\n",
    "    y_selects[lang] = y_test.loc[ y_test[0] == lang ][:sample_size].index\n",
    "y_selects"
   ]
  },
  {
   "cell_type": "raw",
   "metadata": {},
   "source": [
    "# Merge all selected rows into one single list\n",
    "\n",
    "y_selects_all = []\n",
    "for lang in top_languages:\n",
    "    y_selects_all.extend(y_selects[lang])\n",
    "y_selects_all.sort()\n",
    "y_selects_all"
   ]
  },
  {
   "cell_type": "markdown",
   "metadata": {},
   "source": [
    "### Collect the inputs from x_test.txt\n",
    "(using the selected index)"
   ]
  },
  {
   "cell_type": "code",
   "execution_count": 84,
   "metadata": {},
   "outputs": [],
   "source": [
    "from collections import defaultdict"
   ]
  },
  {
   "cell_type": "code",
   "execution_count": 91,
   "metadata": {},
   "outputs": [
    {
     "name": "stdout",
     "output_type": "stream",
     "text": [
      "There are 117500 lines and 50 of them were collected.\n"
     ]
    }
   ],
   "source": [
    "count_items = 0\n",
    "count_collect = 0\n",
    "lines = defaultdict(lambda: [])\n",
    "\n",
    "with open('data/x_test.txt', 'r') as file:\n",
    "    for line in file.readlines():\n",
    "        for lang in top_labels:\n",
    "            if count_items in y_selects[lang]:\n",
    "                #print(f\"Line {count} collected\")\n",
    "                lines[lang].append(line)\n",
    "                count_collect += 1\n",
    "        count_items +=1\n",
    "    print(f\"There are {count_items} lines and {count_collect} of them were collected.\")"
   ]
  },
  {
   "cell_type": "markdown",
   "metadata": {},
   "source": [
    "#### Let's print some of them"
   ]
  },
  {
   "cell_type": "code",
   "execution_count": 101,
   "metadata": {},
   "outputs": [
    {
     "name": "stdout",
     "output_type": "stream",
     "text": [
      "La ciudad de San Cristóbal es sede del Hospital General Docente \"Comandante Pinares\". Con más de 400 camas, este moderno Hospital brinda servicios a todo el oeste de la Provincia de Artemisa.\n",
      "\n",
      "2014 debía de ser la temporada de la consagración de Elissonde, pero no fue así. Comenzó su temporada de nuevo en el Tour de Omán pero no repitió el éxito del año pasado, y esta vez fue 21.º en la clasificación general final. En el Tour de l'Ain en el que el año pasado se llevó la clasificación de los jóvenes, solo puso ser 13.º.\n",
      "\n",
      "En su travesía se encuentran con Gaff, un robot nómada, guardián de la familia Eón, cuya misión es proteger al Puño, a los miembros del clan Eón, e impedir que el cuerpo robot del malvado General se reconstruya en algún laboratorio secreto y lejano. En compañía de Ally, Marty emprende entonces un largo camino de instrucción y desarrollo propio del único ser humano capaz de desarrollar los heroicos planes que la familia Eón le tenía reservados, en donde, de a poco, se va transformando en el último heredero de la familia Eón.\n",
      "\n",
      "बांग्लादेश के मुख्य न्यायाधीश का पद, बांग्लादेश सर्वोच्च न्यायिक पद है। इस पद पर विराजमान होने वाले पहले पदाधिकारी न्यायमूर्ति अब सादात मोहम्मह खान सयम थे, जोकि १६ दिसंबर १९७२ से नवंबर १९७५ तक इस पद पर रहे थे। तत्पश्चात, जनवरी २०१५ तक इस पद पर कुल २१ लोग विराजमान हो चुके हैं। वर्तमान मुख्य न्यायाधीश सुरेन्द्र कुमार सिन्हा इस पद पर १७ जनवरी २०१५ विराजमान हैं। वे हिन्दू धर्म के अनुयायी हैं, तथा बिष्णुप्रिय मणिपुरी समुदाय से आते हैं, तथा वे बांग्लादेश में किसी भी अल्पसंख्यक जातीय समूहों से नियुक्त पहली मुख्य न्यायाधीश है। न्यायमूर्ति भावनी प्रसाद सिन्हा भी एक ही समुदाय से हैं। न्यायमूर्ति महौदय नाज़मन आरा सुल्ताना इस पद को सुशोभित करने वाली पहली महिला न्यायाधीश थीं, और मैडम जस्टिस कृष्णा देबनाथ बांग्लादेश की पहली महिला हिंदू न्यायाधीश है। वर्तमान में सुप्रीम कोर्ट में छह महिला न्यायाधीशों रहे हैं।\n",
      "\n",
      "गुरुत्वीय तरंगों का संसूचन (detection) आसान नहीं है क्योंकि जब वे पृथ्वी पर पहुँचती हैं तब उनका आयाम बहुत कम होता है और विकृति की मात्रा लगभग 10−21 होती है जो मापन की दृष्टि से बहुत ही कम है। इसलिये इस काम के लिये अत्यन्त सुग्राही (sensitive) संसूचक चाहिये। अन्य स्रोतों से मिलने वाले संकेत (रव / noise) इस कार्य में बहुत बाधक होते हैं। अनुमानतः गुरुत्वीय तरंगों की आवृत्ति 10−16 Hz से 104 Hz होती है।\n",
      "\n",
      "उद्यान आभा तूफ़ान एक्स्प्रेस 3007 भारतीय रेल द्वारा संचालित एक मेल एक्स्प्रेस ट्रेन है। यह ट्रेन हावड़ा जंक्शन रेलवे स्टेशन (स्टेशन कोड:HWH) से 09:45AM बजे छूटती है और मुग़ल सराय जंक्शन रेलवे स्टेशन (स्टेशन कोड:MGS) पर 02:15AM बजे पहुंचती है। इसकी यात्रा अवधि है 16 घंटे 30 मिनट।\n",
      "\n",
      "大都会区有它自己的当地路边快餐口味，包括瓦达帕夫（蓬松面包劈开一半，填入锅贴）、潘尼普里（油炸crêpe和罗望子和扁豆调味料）、帕夫布哈吉（蓬松面包加上油炸蔬菜）和布赫普里（爆米花混合物），而且印度南部菜和中国菜都非常普遍。世界性的居民在烹饪、音乐、电影和文学方面有各自独特的口味，既有印度的也有国际的。2004年，孟买的贾特拉帕蒂·希瓦吉终点站、象岛石窟均已被联合国教科文组织列为世界文化遗产。\n",
      "\n",
      "近幾年來，由於氣候變遷對人類帶來的警訊，讓各國政府紛紛思考如何減碳節能。為減少對化石能源的依賴性，有些國家便轉而求救於核能發電，以達減碳又同時成本低廉的效果，惟自2011年3月11日發生的日本福島核災以後，許多國家原本雄心勃勃的擴核計劃，都大大地受到質疑，極有可能會“棄核轉再”，讓可再生能源的發展有更大的空間。\n",
      "\n",
      "全国重点文物保护单位是中华人民共和国对不可移动文物所核定的最高保护级别——即中国国家级文物保护单位。根据2002年10月28日第九届全国人民代表大会常务委员会第三十次会议通过的《中华人民共和国文物保护法》第十三条的规定，国务院文物行政部门在省级、市、县级文物保护单位中，选择具有重大历史、艺术、科学价值者确定为全国重点文物保护单位，或者直接确定，并报国务院核定公布。全国重点文物保护单位的保护范围和记录档案，须由省、自治区、直辖市人民政府的文物行政部门报国务院文物行政部门备案。全国重点文物保护单位不得拆除，需要迁移的，须由省、自治区、直辖市人民政府报国务院批准。\n",
      "\n"
     ]
    }
   ],
   "source": [
    "for l in [*lines['spa'][:3], *lines['hin'][:3], *lines['zho'][:3]]:\n",
    "    print(l)"
   ]
  },
  {
   "cell_type": "markdown",
   "metadata": {},
   "source": [
    "# Azure Translator"
   ]
  },
  {
   "cell_type": "code",
   "execution_count": 118,
   "metadata": {},
   "outputs": [],
   "source": [
    "valid_answer_labels = {\n",
    "    'zho' : ['lzh', 'zh-Hans', 'zh-Hant'],\n",
    "    'eng' : ['en'],\n",
    "    'spa' : ['es'],\n",
    "    'ara' : ['ar'],\n",
    "    'hin' : ['hi'],\n",
    "    'fra' : ['fr', 'fr-ca'],\n",
    "}"
   ]
  },
  {
   "cell_type": "markdown",
   "metadata": {},
   "source": [
    "### Format inputs to match translator API requierements"
   ]
  },
  {
   "cell_type": "code",
   "execution_count": 109,
   "metadata": {},
   "outputs": [
    {
     "name": "stdout",
     "output_type": "stream",
     "text": [
      "ara --> 10\n",
      "eng --> 10\n",
      "hin --> 10\n",
      "spa --> 10\n",
      "zho --> 10\n"
     ]
    }
   ],
   "source": [
    "max_batch_size = 100\n",
    "max_characters = 50000\n",
    "\n",
    "inputs = defaultdict(lambda:[])\n",
    "for lang in top_labels:\n",
    "    for line in lines[lang]:\n",
    "        inputs[lang].append({'text':line})\n",
    "        if len(inputs[lang]) == max_batch_size:\n",
    "            break\n",
    "        \n",
    "for lang in top_labels:\n",
    "        print(f\"{lang} --> {len(inputs[lang])}\")"
   ]
  },
  {
   "cell_type": "markdown",
   "metadata": {},
   "source": [
    "### Call the API"
   ]
  },
  {
   "cell_type": "markdown",
   "metadata": {},
   "source": [
    "#### Load API `subscription_key` and `endpoint` from `non commited file`"
   ]
  },
  {
   "cell_type": "code",
   "execution_count": 110,
   "metadata": {},
   "outputs": [],
   "source": [
    "with open(\"secrets.txt\", \"r\") as secrets:\n",
    "    subscription_key = secrets.readline().strip()\n",
    "    endpoint = secrets.readline().strip()"
   ]
  },
  {
   "cell_type": "markdown",
   "metadata": {},
   "source": [
    "#### Prepare request to API"
   ]
  },
  {
   "cell_type": "code",
   "execution_count": 111,
   "metadata": {},
   "outputs": [],
   "source": [
    "import requests, uuid, json\n",
    "\n",
    "location = \"francecentral\"\n",
    "path = '/detect'\n",
    "constructed_url = endpoint + path\n",
    "\n",
    "params = {'api-version': '3.0'}\n",
    "\n",
    "headers = {\n",
    "    'Ocp-Apim-Subscription-Key': subscription_key,\n",
    "    'Ocp-Apim-Subscription-Region': location,\n",
    "    'Content-type': 'application/json',\n",
    "    'X-ClientTraceId': str(uuid.uuid4())\n",
    "}"
   ]
  },
  {
   "cell_type": "markdown",
   "metadata": {},
   "source": [
    "#### Send a batch of texts ~~per language~~ to the API"
   ]
  },
  {
   "cell_type": "code",
   "execution_count": 112,
   "metadata": {},
   "outputs": [],
   "source": [
    "body = inputs['hin']\n",
    "\n",
    "request = requests.post(constructed_url, params=params, headers=headers, json=body)\n",
    "response = request.json()"
   ]
  },
  {
   "cell_type": "markdown",
   "metadata": {},
   "source": [
    "## Prepare results for analysis"
   ]
  },
  {
   "cell_type": "markdown",
   "metadata": {},
   "source": [
    "#### Convert to Pandas DataFrame for ease of use"
   ]
  },
  {
   "cell_type": "code",
   "execution_count": 113,
   "metadata": {},
   "outputs": [
    {
     "data": {
      "text/html": [
       "<div>\n",
       "<style scoped>\n",
       "    .dataframe tbody tr th:only-of-type {\n",
       "        vertical-align: middle;\n",
       "    }\n",
       "\n",
       "    .dataframe tbody tr th {\n",
       "        vertical-align: top;\n",
       "    }\n",
       "\n",
       "    .dataframe thead th {\n",
       "        text-align: right;\n",
       "    }\n",
       "</style>\n",
       "<table border=\"1\" class=\"dataframe\">\n",
       "  <thead>\n",
       "    <tr style=\"text-align: right;\">\n",
       "      <th></th>\n",
       "      <th>language</th>\n",
       "      <th>score</th>\n",
       "      <th>isTranslationSupported</th>\n",
       "      <th>isTransliterationSupported</th>\n",
       "    </tr>\n",
       "  </thead>\n",
       "  <tbody>\n",
       "    <tr>\n",
       "      <th>0</th>\n",
       "      <td>hi</td>\n",
       "      <td>1.00</td>\n",
       "      <td>True</td>\n",
       "      <td>True</td>\n",
       "    </tr>\n",
       "    <tr>\n",
       "      <th>1</th>\n",
       "      <td>hi</td>\n",
       "      <td>0.95</td>\n",
       "      <td>True</td>\n",
       "      <td>True</td>\n",
       "    </tr>\n",
       "    <tr>\n",
       "      <th>2</th>\n",
       "      <td>hi</td>\n",
       "      <td>0.93</td>\n",
       "      <td>True</td>\n",
       "      <td>True</td>\n",
       "    </tr>\n",
       "    <tr>\n",
       "      <th>3</th>\n",
       "      <td>hi</td>\n",
       "      <td>1.00</td>\n",
       "      <td>True</td>\n",
       "      <td>True</td>\n",
       "    </tr>\n",
       "    <tr>\n",
       "      <th>4</th>\n",
       "      <td>hi</td>\n",
       "      <td>1.00</td>\n",
       "      <td>True</td>\n",
       "      <td>True</td>\n",
       "    </tr>\n",
       "    <tr>\n",
       "      <th>5</th>\n",
       "      <td>hi</td>\n",
       "      <td>1.00</td>\n",
       "      <td>True</td>\n",
       "      <td>True</td>\n",
       "    </tr>\n",
       "    <tr>\n",
       "      <th>6</th>\n",
       "      <td>hi</td>\n",
       "      <td>0.98</td>\n",
       "      <td>True</td>\n",
       "      <td>True</td>\n",
       "    </tr>\n",
       "    <tr>\n",
       "      <th>7</th>\n",
       "      <td>hi</td>\n",
       "      <td>1.00</td>\n",
       "      <td>True</td>\n",
       "      <td>True</td>\n",
       "    </tr>\n",
       "    <tr>\n",
       "      <th>8</th>\n",
       "      <td>hi</td>\n",
       "      <td>0.98</td>\n",
       "      <td>True</td>\n",
       "      <td>True</td>\n",
       "    </tr>\n",
       "    <tr>\n",
       "      <th>9</th>\n",
       "      <td>hi</td>\n",
       "      <td>1.00</td>\n",
       "      <td>True</td>\n",
       "      <td>True</td>\n",
       "    </tr>\n",
       "  </tbody>\n",
       "</table>\n",
       "</div>"
      ],
      "text/plain": [
       "  language  score  isTranslationSupported  isTransliterationSupported\n",
       "0       hi   1.00                    True                        True\n",
       "1       hi   0.95                    True                        True\n",
       "2       hi   0.93                    True                        True\n",
       "3       hi   1.00                    True                        True\n",
       "4       hi   1.00                    True                        True\n",
       "5       hi   1.00                    True                        True\n",
       "6       hi   0.98                    True                        True\n",
       "7       hi   1.00                    True                        True\n",
       "8       hi   0.98                    True                        True\n",
       "9       hi   1.00                    True                        True"
      ]
     },
     "execution_count": 113,
     "metadata": {},
     "output_type": "execute_result"
    }
   ],
   "source": [
    "results = pd.DataFrame(response)\n",
    "results"
   ]
  },
  {
   "cell_type": "markdown",
   "metadata": {},
   "source": [
    "#### Add a new columns indicating wether or not the predicted label match the known label"
   ]
  },
  {
   "cell_type": "code",
   "execution_count": 126,
   "metadata": {},
   "outputs": [
    {
     "data": {
      "text/html": [
       "<div>\n",
       "<style scoped>\n",
       "    .dataframe tbody tr th:only-of-type {\n",
       "        vertical-align: middle;\n",
       "    }\n",
       "\n",
       "    .dataframe tbody tr th {\n",
       "        vertical-align: top;\n",
       "    }\n",
       "\n",
       "    .dataframe thead th {\n",
       "        text-align: right;\n",
       "    }\n",
       "</style>\n",
       "<table border=\"1\" class=\"dataframe\">\n",
       "  <thead>\n",
       "    <tr style=\"text-align: right;\">\n",
       "      <th></th>\n",
       "      <th>language</th>\n",
       "      <th>score</th>\n",
       "      <th>isTranslationSupported</th>\n",
       "      <th>isTransliterationSupported</th>\n",
       "      <th>isOk</th>\n",
       "    </tr>\n",
       "  </thead>\n",
       "  <tbody>\n",
       "    <tr>\n",
       "      <th>0</th>\n",
       "      <td>hi</td>\n",
       "      <td>1.00</td>\n",
       "      <td>True</td>\n",
       "      <td>True</td>\n",
       "      <td>True</td>\n",
       "    </tr>\n",
       "    <tr>\n",
       "      <th>1</th>\n",
       "      <td>hi</td>\n",
       "      <td>0.95</td>\n",
       "      <td>True</td>\n",
       "      <td>True</td>\n",
       "      <td>True</td>\n",
       "    </tr>\n",
       "    <tr>\n",
       "      <th>2</th>\n",
       "      <td>hi</td>\n",
       "      <td>0.93</td>\n",
       "      <td>True</td>\n",
       "      <td>True</td>\n",
       "      <td>True</td>\n",
       "    </tr>\n",
       "    <tr>\n",
       "      <th>3</th>\n",
       "      <td>hi</td>\n",
       "      <td>1.00</td>\n",
       "      <td>True</td>\n",
       "      <td>True</td>\n",
       "      <td>True</td>\n",
       "    </tr>\n",
       "    <tr>\n",
       "      <th>4</th>\n",
       "      <td>hi</td>\n",
       "      <td>1.00</td>\n",
       "      <td>True</td>\n",
       "      <td>True</td>\n",
       "      <td>True</td>\n",
       "    </tr>\n",
       "    <tr>\n",
       "      <th>5</th>\n",
       "      <td>hi</td>\n",
       "      <td>1.00</td>\n",
       "      <td>True</td>\n",
       "      <td>True</td>\n",
       "      <td>True</td>\n",
       "    </tr>\n",
       "    <tr>\n",
       "      <th>6</th>\n",
       "      <td>hi</td>\n",
       "      <td>0.98</td>\n",
       "      <td>True</td>\n",
       "      <td>True</td>\n",
       "      <td>True</td>\n",
       "    </tr>\n",
       "    <tr>\n",
       "      <th>7</th>\n",
       "      <td>hi</td>\n",
       "      <td>1.00</td>\n",
       "      <td>True</td>\n",
       "      <td>True</td>\n",
       "      <td>True</td>\n",
       "    </tr>\n",
       "    <tr>\n",
       "      <th>8</th>\n",
       "      <td>hi</td>\n",
       "      <td>0.98</td>\n",
       "      <td>True</td>\n",
       "      <td>True</td>\n",
       "      <td>True</td>\n",
       "    </tr>\n",
       "    <tr>\n",
       "      <th>9</th>\n",
       "      <td>hi</td>\n",
       "      <td>1.00</td>\n",
       "      <td>True</td>\n",
       "      <td>True</td>\n",
       "      <td>True</td>\n",
       "    </tr>\n",
       "  </tbody>\n",
       "</table>\n",
       "</div>"
      ],
      "text/plain": [
       "  language  score  isTranslationSupported  isTransliterationSupported  isOk\n",
       "0       hi   1.00                    True                        True  True\n",
       "1       hi   0.95                    True                        True  True\n",
       "2       hi   0.93                    True                        True  True\n",
       "3       hi   1.00                    True                        True  True\n",
       "4       hi   1.00                    True                        True  True\n",
       "5       hi   1.00                    True                        True  True\n",
       "6       hi   0.98                    True                        True  True\n",
       "7       hi   1.00                    True                        True  True\n",
       "8       hi   0.98                    True                        True  True\n",
       "9       hi   1.00                    True                        True  True"
      ]
     },
     "execution_count": 126,
     "metadata": {},
     "output_type": "execute_result"
    }
   ],
   "source": [
    "results['isOk'] = [r in valid_answer_labels['hin'] for r in results['language']]\n",
    "results"
   ]
  },
  {
   "cell_type": "markdown",
   "metadata": {},
   "source": [
    "#### Remove useless (in this context) columns in order to improve readability"
   ]
  },
  {
   "cell_type": "code",
   "execution_count": 127,
   "metadata": {},
   "outputs": [
    {
     "data": {
      "text/html": [
       "<div>\n",
       "<style scoped>\n",
       "    .dataframe tbody tr th:only-of-type {\n",
       "        vertical-align: middle;\n",
       "    }\n",
       "\n",
       "    .dataframe tbody tr th {\n",
       "        vertical-align: top;\n",
       "    }\n",
       "\n",
       "    .dataframe thead th {\n",
       "        text-align: right;\n",
       "    }\n",
       "</style>\n",
       "<table border=\"1\" class=\"dataframe\">\n",
       "  <thead>\n",
       "    <tr style=\"text-align: right;\">\n",
       "      <th></th>\n",
       "      <th>language</th>\n",
       "      <th>score</th>\n",
       "      <th>isOk</th>\n",
       "    </tr>\n",
       "  </thead>\n",
       "  <tbody>\n",
       "    <tr>\n",
       "      <th>0</th>\n",
       "      <td>hi</td>\n",
       "      <td>1.00</td>\n",
       "      <td>True</td>\n",
       "    </tr>\n",
       "    <tr>\n",
       "      <th>1</th>\n",
       "      <td>hi</td>\n",
       "      <td>0.95</td>\n",
       "      <td>True</td>\n",
       "    </tr>\n",
       "    <tr>\n",
       "      <th>2</th>\n",
       "      <td>hi</td>\n",
       "      <td>0.93</td>\n",
       "      <td>True</td>\n",
       "    </tr>\n",
       "    <tr>\n",
       "      <th>3</th>\n",
       "      <td>hi</td>\n",
       "      <td>1.00</td>\n",
       "      <td>True</td>\n",
       "    </tr>\n",
       "    <tr>\n",
       "      <th>4</th>\n",
       "      <td>hi</td>\n",
       "      <td>1.00</td>\n",
       "      <td>True</td>\n",
       "    </tr>\n",
       "    <tr>\n",
       "      <th>5</th>\n",
       "      <td>hi</td>\n",
       "      <td>1.00</td>\n",
       "      <td>True</td>\n",
       "    </tr>\n",
       "    <tr>\n",
       "      <th>6</th>\n",
       "      <td>hi</td>\n",
       "      <td>0.98</td>\n",
       "      <td>True</td>\n",
       "    </tr>\n",
       "    <tr>\n",
       "      <th>7</th>\n",
       "      <td>hi</td>\n",
       "      <td>1.00</td>\n",
       "      <td>True</td>\n",
       "    </tr>\n",
       "    <tr>\n",
       "      <th>8</th>\n",
       "      <td>hi</td>\n",
       "      <td>0.98</td>\n",
       "      <td>True</td>\n",
       "    </tr>\n",
       "    <tr>\n",
       "      <th>9</th>\n",
       "      <td>hi</td>\n",
       "      <td>1.00</td>\n",
       "      <td>True</td>\n",
       "    </tr>\n",
       "  </tbody>\n",
       "</table>\n",
       "</div>"
      ],
      "text/plain": [
       "  language  score  isOk\n",
       "0       hi   1.00  True\n",
       "1       hi   0.95  True\n",
       "2       hi   0.93  True\n",
       "3       hi   1.00  True\n",
       "4       hi   1.00  True\n",
       "5       hi   1.00  True\n",
       "6       hi   0.98  True\n",
       "7       hi   1.00  True\n",
       "8       hi   0.98  True\n",
       "9       hi   1.00  True"
      ]
     },
     "execution_count": 127,
     "metadata": {},
     "output_type": "execute_result"
    }
   ],
   "source": [
    "results.drop(['isTranslationSupported','isTransliterationSupported'], axis='columns')"
   ]
  },
  {
   "cell_type": "markdown",
   "metadata": {},
   "source": [
    "## Compute scores"
   ]
  },
  {
   "cell_type": "code",
   "execution_count": 129,
   "metadata": {},
   "outputs": [
    {
     "data": {
      "text/plain": [
       "0.984"
      ]
     },
     "execution_count": 129,
     "metadata": {},
     "output_type": "execute_result"
    }
   ],
   "source": [
    "average_azure_score = results['score'].mean()\n",
    "average_azure_score"
   ]
  },
  {
   "cell_type": "code",
   "execution_count": 130,
   "metadata": {},
   "outputs": [
    {
     "data": {
      "text/plain": [
       "1.0"
      ]
     },
     "execution_count": 130,
     "metadata": {},
     "output_type": "execute_result"
    }
   ],
   "source": [
    "average_local_score = np.sum(results['isOk']) / len(results)\n",
    "average_local_score"
   ]
  },
  {
   "cell_type": "code",
   "execution_count": null,
   "metadata": {},
   "outputs": [],
   "source": []
  }
 ],
 "metadata": {
  "kernelspec": {
   "display_name": "Python 3",
   "language": "python",
   "name": "python3"
  },
  "language_info": {
   "codemirror_mode": {
    "name": "ipython",
    "version": 3
   },
   "file_extension": ".py",
   "mimetype": "text/x-python",
   "name": "python",
   "nbconvert_exporter": "python",
   "pygments_lexer": "ipython3",
   "version": "3.8.10"
  }
 },
 "nbformat": 4,
 "nbformat_minor": 4
}
